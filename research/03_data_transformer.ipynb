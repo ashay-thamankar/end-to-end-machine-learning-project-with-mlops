{
 "cells": [
  {
   "cell_type": "code",
   "execution_count": 1,
   "metadata": {},
   "outputs": [],
   "source": [
    "import os"
   ]
  },
  {
   "cell_type": "code",
   "execution_count": 2,
   "metadata": {},
   "outputs": [
    {
     "data": {
      "text/plain": [
       "'f:\\\\Anaconda Projects\\\\end to end third mlops\\\\end to end project with mlops\\\\end-to-end-machine-learning-project-with-mlops\\\\research'"
      ]
     },
     "execution_count": 2,
     "metadata": {},
     "output_type": "execute_result"
    }
   ],
   "source": [
    "%pwd"
   ]
  },
  {
   "cell_type": "code",
   "execution_count": 3,
   "metadata": {},
   "outputs": [],
   "source": [
    "os.chdir('../')"
   ]
  },
  {
   "cell_type": "code",
   "execution_count": 4,
   "metadata": {},
   "outputs": [
    {
     "data": {
      "text/plain": [
       "'f:\\\\Anaconda Projects\\\\end to end third mlops\\\\end to end project with mlops\\\\end-to-end-machine-learning-project-with-mlops'"
      ]
     },
     "execution_count": 4,
     "metadata": {},
     "output_type": "execute_result"
    }
   ],
   "source": [
    "%pwd"
   ]
  },
  {
   "cell_type": "code",
   "execution_count": 5,
   "metadata": {},
   "outputs": [],
   "source": [
    "from dataclasses import dataclass\n",
    "from pathlib import Path\n",
    "\n",
    "@dataclass(frozen=True)\n",
    "class DataTransformationConfig:\n",
    "    root_dir: Path\n",
    "    data_path: Path"
   ]
  },
  {
   "cell_type": "code",
   "execution_count": 6,
   "metadata": {},
   "outputs": [],
   "source": [
    "from mlProject.constants import *\n",
    "from mlProject.utils.common import read_yaml, create_directories"
   ]
  },
  {
   "cell_type": "code",
   "execution_count": 13,
   "metadata": {},
   "outputs": [],
   "source": [
    "class ConfigurationManager:\n",
    "    def __init__(self,\n",
    "                 config_filepath = CONFIG_FILE_PATH,\n",
    "                 params_filepath = PARAMS_FILE_PATH,\n",
    "                 schema_filepath = SCHEMA_FILE_PATH\n",
    "                 ):\n",
    "        self.config = read_yaml(config_filepath)\n",
    "        self.params =read_yaml(params_filepath)\n",
    "        self.schema = read_yaml(schema_filepath)\n",
    "\n",
    "        create_directories([self.config.artifacts_root])\n",
    "\n",
    "    def get_data_transformation_config(self) -> DataTransformationConfig:\n",
    "        config = self.config.data_transformation\n",
    "\n",
    "        create_directories([config.root_dir])\n",
    "\n",
    "        data_transformation_config = DataTransformationConfig(\n",
    "            root_dir=config.root_dir,\n",
    "            data_path=config.data_path\n",
    "        )\n",
    "\n",
    "        return data_transformation_config\n"
   ]
  },
  {
   "cell_type": "code",
   "execution_count": 8,
   "metadata": {},
   "outputs": [],
   "source": [
    "import os\n",
    "import pandas as pd\n",
    "from mlProject import logger\n",
    "from sklearn.model_selection import train_test_split"
   ]
  },
  {
   "cell_type": "code",
   "execution_count": 14,
   "metadata": {},
   "outputs": [],
   "source": [
    "class DataTransformation:\n",
    "    def __init__(self,\n",
    "                 config: DataTransformationConfig):\n",
    "        self.config = config\n",
    "\n",
    "    def train_test_splitting(self):\n",
    "        data = pd.read_csv(self.config.data_path)\n",
    "\n",
    "        train, test = train_test_split(data, test_size=0.2, random_state=42)\n",
    "\n",
    "        train.to_csv(os.path.join(self.config.root_dir, 'train.csv'), index=False)\n",
    "        test.to_csv(os.path.join(self.config.root_dir, 'test.csv'), index=False)\n",
    "\n",
    "        logger.info(\"Splitting data into train and test sets\")\n",
    "        logger.info(train.shape)\n",
    "        logger.info(test.info)\n",
    "\n",
    "        print(test.shape)\n",
    "        print(train.shape)\n",
    "\n",
    "    \n",
    "\n"
   ]
  },
  {
   "cell_type": "code",
   "execution_count": 15,
   "metadata": {},
   "outputs": [
    {
     "name": "stdout",
     "output_type": "stream",
     "text": [
      "[2024-01-07 22:15:52,754: INFO: common: yaml file: config\\config.yaml loaded successfully]\n",
      "[2024-01-07 22:15:52,757: INFO: common: yaml file: params.yaml loaded successfully]\n",
      "[2024-01-07 22:15:52,764: INFO: common: yaml file: schema.yaml loaded successfully]\n",
      "[2024-01-07 22:15:52,767: INFO: common: created directory at: artifacts]\n",
      "[2024-01-07 22:15:52,770: INFO: common: created directory at: artifacts/data_transformation]\n",
      "[2024-01-07 22:15:53,051: INFO: 2343575360: Splitting data into train and test sets]\n",
      "[2024-01-07 22:15:53,051: INFO: 2343575360: (1279, 12)]\n",
      "[2024-01-07 22:15:53,051: INFO: 2343575360: <bound method DataFrame.info of       fixed acidity  volatile acidity  citric acid  residual sugar  chlorides  \\\n",
      "803             7.7             0.560         0.08            2.50      0.114   \n",
      "124             7.8             0.500         0.17            1.60      0.082   \n",
      "350            10.7             0.670         0.22            2.70      0.107   \n",
      "682             8.5             0.460         0.31            2.25      0.078   \n",
      "1326            6.7             0.460         0.24            1.70      0.077   \n",
      "...             ...               ...          ...             ...        ...   \n",
      "1259            6.8             0.640         0.00            2.70      0.123   \n",
      "1295            6.6             0.630         0.00            4.30      0.093   \n",
      "1155            8.3             0.600         0.25            2.20      0.118   \n",
      "963             8.8             0.270         0.39            2.00      0.100   \n",
      "704             9.1             0.765         0.04            1.60      0.078   \n",
      "\n",
      "      free sulfur dioxide  total sulfur dioxide  density    pH  sulphates  \\\n",
      "803                  14.0                  46.0  0.99710  3.24       0.66   \n",
      "124                  21.0                 102.0  0.99600  3.39       0.48   \n",
      "350                  17.0                  34.0  1.00040  3.28       0.98   \n",
      "682                  32.0                  58.0  0.99800  3.33       0.54   \n",
      "1326                 18.0                  34.0  0.99480  3.39       0.60   \n",
      "...                   ...                   ...      ...   ...        ...   \n",
      "1259                 15.0                  33.0  0.99538  3.44       0.63   \n",
      "1295                 51.0                  77.5  0.99558  3.20       0.45   \n",
      "1155                  9.0                  38.0  0.99616  3.15       0.53   \n",
      "963                  20.0                  27.0  0.99546  3.15       0.69   \n",
      "704                   4.0                  14.0  0.99800  3.29       0.54   \n",
      "\n",
      "      alcohol  quality  \n",
      "803       9.6        6  \n",
      "124       9.5        5  \n",
      "350       9.9        6  \n",
      "682       9.8        5  \n",
      "1326     10.6        6  \n",
      "...       ...      ...  \n",
      "1259     11.3        6  \n",
      "1295      9.5        5  \n",
      "1155      9.8        5  \n",
      "963      11.2        6  \n",
      "704       9.7        4  \n",
      "\n",
      "[320 rows x 12 columns]>]\n",
      "(320, 12)\n",
      "(1279, 12)\n"
     ]
    }
   ],
   "source": [
    "try:\n",
    "    config = ConfigurationManager()\n",
    "    data_transformation_config = config.get_data_transformation_config()\n",
    "    data_transformation = DataTransformation(config=data_transformation_config)\n",
    "    data_transformation.train_test_splitting()\n",
    "except Exception as e:\n",
    "    raise e"
   ]
  },
  {
   "cell_type": "code",
   "execution_count": null,
   "metadata": {},
   "outputs": [],
   "source": []
  }
 ],
 "metadata": {
  "kernelspec": {
   "display_name": "Python 3",
   "language": "python",
   "name": "python3"
  },
  "language_info": {
   "codemirror_mode": {
    "name": "ipython",
    "version": 3
   },
   "file_extension": ".py",
   "mimetype": "text/x-python",
   "name": "python",
   "nbconvert_exporter": "python",
   "pygments_lexer": "ipython3",
   "version": "3.8.0"
  }
 },
 "nbformat": 4,
 "nbformat_minor": 2
}
